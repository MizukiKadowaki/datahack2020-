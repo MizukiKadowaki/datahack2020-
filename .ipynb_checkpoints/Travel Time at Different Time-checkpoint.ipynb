{
 "cells": [
  {
   "cell_type": "code",
   "execution_count": 171,
   "metadata": {},
   "outputs": [],
   "source": [
    "import pandas as pd\n",
    "import numpy as np\n",
    "import matplotlib.pyplot as plt"
   ]
  },
  {
   "cell_type": "code",
   "execution_count": 172,
   "metadata": {},
   "outputs": [],
   "source": [
    "barts_hotspots = pd.read_csv(\"data/barts_hotspots.csv\")\n",
    "barts_to_all = pd.read_csv(\"data/barts_to_all.csv\")\n",
    "hotspots_to_all = pd.read_csv(\"data/hotspots_to_all.csv\")\n",
    "hours_q1 = pd.read_csv(\"data/hours_q1.csv\")\n",
    "hours_q2 = pd.read_csv(\"data/hours_q2.csv\")"
   ]
  },
  {
   "cell_type": "code",
   "execution_count": 173,
   "metadata": {},
   "outputs": [
    {
     "data": {
      "text/html": [
       "<div>\n",
       "<style scoped>\n",
       "    .dataframe tbody tr th:only-of-type {\n",
       "        vertical-align: middle;\n",
       "    }\n",
       "\n",
       "    .dataframe tbody tr th {\n",
       "        vertical-align: top;\n",
       "    }\n",
       "\n",
       "    .dataframe thead th {\n",
       "        text-align: right;\n",
       "    }\n",
       "</style>\n",
       "<table border=\"1\" class=\"dataframe\">\n",
       "  <thead>\n",
       "    <tr style=\"text-align: right;\">\n",
       "      <th></th>\n",
       "      <th>Date</th>\n",
       "      <th>Origin Movement ID</th>\n",
       "      <th>Origin Display Name</th>\n",
       "      <th>Destination Movement ID</th>\n",
       "      <th>Destination Display Name</th>\n",
       "      <th>Daily Mean Travel Time (Seconds)</th>\n",
       "      <th>Daily Range - Lower Bound Travel Time (Seconds)</th>\n",
       "      <th>Daily Range - Upper Bound Travel Time (Seconds)</th>\n",
       "      <th>AM Mean Travel Time (Seconds)</th>\n",
       "      <th>AM Range - Lower Bound Travel Time (Seconds)</th>\n",
       "      <th>...</th>\n",
       "      <th>PM Range - Upper Bound Travel Time (Seconds)</th>\n",
       "      <th>Midday Mean Travel Time (Seconds)</th>\n",
       "      <th>Midday Range - Lower Bound Travel Time (Seconds)</th>\n",
       "      <th>Midday Range - Upper Bound Travel Time (Seconds)</th>\n",
       "      <th>Evening Mean Travel Time (Seconds)</th>\n",
       "      <th>Evening Range - Lower Bound Travel Time (Seconds)</th>\n",
       "      <th>Evening Range - Upper Bound Travel Time (Seconds)</th>\n",
       "      <th>Early Morning Mean Travel Time (Seconds)</th>\n",
       "      <th>Early Morning Range - Lower Bound Travel Time (Seconds)</th>\n",
       "      <th>Early Morning Range - Upper Bound Travel Time (Seconds)</th>\n",
       "    </tr>\n",
       "  </thead>\n",
       "  <tbody>\n",
       "    <tr>\n",
       "      <td>0</td>\n",
       "      <td>2019-06-09</td>\n",
       "      <td>3396</td>\n",
       "      <td>The Palace Of Fine Arts, 3601 Lyon St, San Fra...</td>\n",
       "      <td>3603</td>\n",
       "      <td>Embarcadero, San Francisco, CA</td>\n",
       "      <td>1588.0</td>\n",
       "      <td>1054.0</td>\n",
       "      <td>2392.0</td>\n",
       "      <td>NaN</td>\n",
       "      <td>NaN</td>\n",
       "      <td>...</td>\n",
       "      <td>NaN</td>\n",
       "      <td>NaN</td>\n",
       "      <td>NaN</td>\n",
       "      <td>NaN</td>\n",
       "      <td>NaN</td>\n",
       "      <td>NaN</td>\n",
       "      <td>NaN</td>\n",
       "      <td>NaN</td>\n",
       "      <td>NaN</td>\n",
       "      <td>NaN</td>\n",
       "    </tr>\n",
       "    <tr>\n",
       "      <td>1</td>\n",
       "      <td>2019-04-28</td>\n",
       "      <td>3603</td>\n",
       "      <td>Embarcadero, San Francisco, CA</td>\n",
       "      <td>3394</td>\n",
       "      <td>Fisherman's Wharf, San Francisco, CA</td>\n",
       "      <td>639.0</td>\n",
       "      <td>512.0</td>\n",
       "      <td>796.0</td>\n",
       "      <td>NaN</td>\n",
       "      <td>NaN</td>\n",
       "      <td>...</td>\n",
       "      <td>793.0</td>\n",
       "      <td>654.0</td>\n",
       "      <td>524.0</td>\n",
       "      <td>817.0</td>\n",
       "      <td>608.0</td>\n",
       "      <td>492.0</td>\n",
       "      <td>753.0</td>\n",
       "      <td>NaN</td>\n",
       "      <td>NaN</td>\n",
       "      <td>NaN</td>\n",
       "    </tr>\n",
       "    <tr>\n",
       "      <td>2</td>\n",
       "      <td>2019-05-18</td>\n",
       "      <td>3603</td>\n",
       "      <td>Embarcadero, San Francisco, CA</td>\n",
       "      <td>3394</td>\n",
       "      <td>Fisherman's Wharf, San Francisco, CA</td>\n",
       "      <td>730.0</td>\n",
       "      <td>520.0</td>\n",
       "      <td>1024.0</td>\n",
       "      <td>NaN</td>\n",
       "      <td>NaN</td>\n",
       "      <td>...</td>\n",
       "      <td>985.0</td>\n",
       "      <td>791.0</td>\n",
       "      <td>590.0</td>\n",
       "      <td>1061.0</td>\n",
       "      <td>569.0</td>\n",
       "      <td>406.0</td>\n",
       "      <td>797.0</td>\n",
       "      <td>NaN</td>\n",
       "      <td>NaN</td>\n",
       "      <td>NaN</td>\n",
       "    </tr>\n",
       "    <tr>\n",
       "      <td>3</td>\n",
       "      <td>2019-04-18</td>\n",
       "      <td>3792</td>\n",
       "      <td>Oracle Park, 24 Willie Mays Plaza, San Francis...</td>\n",
       "      <td>3603</td>\n",
       "      <td>Embarcadero, San Francisco, CA</td>\n",
       "      <td>512.0</td>\n",
       "      <td>371.0</td>\n",
       "      <td>705.0</td>\n",
       "      <td>648.0</td>\n",
       "      <td>461.0</td>\n",
       "      <td>...</td>\n",
       "      <td>720.0</td>\n",
       "      <td>528.0</td>\n",
       "      <td>398.0</td>\n",
       "      <td>702.0</td>\n",
       "      <td>442.0</td>\n",
       "      <td>321.0</td>\n",
       "      <td>608.0</td>\n",
       "      <td>363.0</td>\n",
       "      <td>297.0</td>\n",
       "      <td>443.0</td>\n",
       "    </tr>\n",
       "    <tr>\n",
       "      <td>4</td>\n",
       "      <td>2019-04-08</td>\n",
       "      <td>3792</td>\n",
       "      <td>Oracle Park, 24 Willie Mays Plaza, San Francis...</td>\n",
       "      <td>3603</td>\n",
       "      <td>Embarcadero, San Francisco, CA</td>\n",
       "      <td>505.0</td>\n",
       "      <td>364.0</td>\n",
       "      <td>701.0</td>\n",
       "      <td>621.0</td>\n",
       "      <td>489.0</td>\n",
       "      <td>...</td>\n",
       "      <td>941.0</td>\n",
       "      <td>429.0</td>\n",
       "      <td>339.0</td>\n",
       "      <td>542.0</td>\n",
       "      <td>502.0</td>\n",
       "      <td>354.0</td>\n",
       "      <td>711.0</td>\n",
       "      <td>NaN</td>\n",
       "      <td>NaN</td>\n",
       "      <td>NaN</td>\n",
       "    </tr>\n",
       "  </tbody>\n",
       "</table>\n",
       "<p>5 rows × 23 columns</p>\n",
       "</div>"
      ],
      "text/plain": [
       "        Date  Origin Movement ID  \\\n",
       "0 2019-06-09                3396   \n",
       "1 2019-04-28                3603   \n",
       "2 2019-05-18                3603   \n",
       "3 2019-04-18                3792   \n",
       "4 2019-04-08                3792   \n",
       "\n",
       "                                 Origin Display Name  Destination Movement ID  \\\n",
       "0  The Palace Of Fine Arts, 3601 Lyon St, San Fra...                     3603   \n",
       "1                     Embarcadero, San Francisco, CA                     3394   \n",
       "2                     Embarcadero, San Francisco, CA                     3394   \n",
       "3  Oracle Park, 24 Willie Mays Plaza, San Francis...                     3603   \n",
       "4  Oracle Park, 24 Willie Mays Plaza, San Francis...                     3603   \n",
       "\n",
       "               Destination Display Name  Daily Mean Travel Time (Seconds)  \\\n",
       "0        Embarcadero, San Francisco, CA                            1588.0   \n",
       "1  Fisherman's Wharf, San Francisco, CA                             639.0   \n",
       "2  Fisherman's Wharf, San Francisco, CA                             730.0   \n",
       "3        Embarcadero, San Francisco, CA                             512.0   \n",
       "4        Embarcadero, San Francisco, CA                             505.0   \n",
       "\n",
       "   Daily Range - Lower Bound Travel Time (Seconds)  \\\n",
       "0                                           1054.0   \n",
       "1                                            512.0   \n",
       "2                                            520.0   \n",
       "3                                            371.0   \n",
       "4                                            364.0   \n",
       "\n",
       "   Daily Range - Upper Bound Travel Time (Seconds)  \\\n",
       "0                                           2392.0   \n",
       "1                                            796.0   \n",
       "2                                           1024.0   \n",
       "3                                            705.0   \n",
       "4                                            701.0   \n",
       "\n",
       "   AM Mean Travel Time (Seconds)  \\\n",
       "0                            NaN   \n",
       "1                            NaN   \n",
       "2                            NaN   \n",
       "3                          648.0   \n",
       "4                          621.0   \n",
       "\n",
       "   AM Range - Lower Bound Travel Time (Seconds)  ...  \\\n",
       "0                                           NaN  ...   \n",
       "1                                           NaN  ...   \n",
       "2                                           NaN  ...   \n",
       "3                                         461.0  ...   \n",
       "4                                         489.0  ...   \n",
       "\n",
       "   PM Range - Upper Bound Travel Time (Seconds)  \\\n",
       "0                                           NaN   \n",
       "1                                         793.0   \n",
       "2                                         985.0   \n",
       "3                                         720.0   \n",
       "4                                         941.0   \n",
       "\n",
       "   Midday Mean Travel Time (Seconds)  \\\n",
       "0                                NaN   \n",
       "1                              654.0   \n",
       "2                              791.0   \n",
       "3                              528.0   \n",
       "4                              429.0   \n",
       "\n",
       "   Midday Range - Lower Bound Travel Time (Seconds)  \\\n",
       "0                                               NaN   \n",
       "1                                             524.0   \n",
       "2                                             590.0   \n",
       "3                                             398.0   \n",
       "4                                             339.0   \n",
       "\n",
       "   Midday Range - Upper Bound Travel Time (Seconds)  \\\n",
       "0                                               NaN   \n",
       "1                                             817.0   \n",
       "2                                            1061.0   \n",
       "3                                             702.0   \n",
       "4                                             542.0   \n",
       "\n",
       "   Evening Mean Travel Time (Seconds)  \\\n",
       "0                                 NaN   \n",
       "1                               608.0   \n",
       "2                               569.0   \n",
       "3                               442.0   \n",
       "4                               502.0   \n",
       "\n",
       "   Evening Range - Lower Bound Travel Time (Seconds)  \\\n",
       "0                                                NaN   \n",
       "1                                              492.0   \n",
       "2                                              406.0   \n",
       "3                                              321.0   \n",
       "4                                              354.0   \n",
       "\n",
       "   Evening Range - Upper Bound Travel Time (Seconds)  \\\n",
       "0                                                NaN   \n",
       "1                                              753.0   \n",
       "2                                              797.0   \n",
       "3                                              608.0   \n",
       "4                                              711.0   \n",
       "\n",
       "   Early Morning Mean Travel Time (Seconds)  \\\n",
       "0                                       NaN   \n",
       "1                                       NaN   \n",
       "2                                       NaN   \n",
       "3                                     363.0   \n",
       "4                                       NaN   \n",
       "\n",
       "   Early Morning Range - Lower Bound Travel Time (Seconds)  \\\n",
       "0                                                NaN         \n",
       "1                                                NaN         \n",
       "2                                                NaN         \n",
       "3                                              297.0         \n",
       "4                                                NaN         \n",
       "\n",
       "   Early Morning Range - Upper Bound Travel Time (Seconds)  \n",
       "0                                                NaN        \n",
       "1                                                NaN        \n",
       "2                                                NaN        \n",
       "3                                              443.0        \n",
       "4                                                NaN        \n",
       "\n",
       "[5 rows x 23 columns]"
      ]
     },
     "execution_count": 173,
     "metadata": {},
     "output_type": "execute_result"
    }
   ],
   "source": [
    "barts_hotspots[\"Date\"] = pd.to_datetime(barts_hotspots[\"Date\"])\n",
    "barts_hotspots.head()"
   ]
  },
  {
   "cell_type": "code",
   "execution_count": null,
   "metadata": {},
   "outputs": [],
   "source": []
  },
  {
   "cell_type": "code",
   "execution_count": null,
   "metadata": {},
   "outputs": [],
   "source": []
  },
  {
   "cell_type": "code",
   "execution_count": 174,
   "metadata": {},
   "outputs": [
    {
     "data": {
      "text/plain": [
       "Date                                                          0\n",
       "Origin Movement ID                                            0\n",
       "Origin Display Name                                           0\n",
       "Destination Movement ID                                       0\n",
       "Destination Display Name                                      0\n",
       "Daily Mean Travel Time (Seconds)                             58\n",
       "Daily Range - Lower Bound Travel Time (Seconds)              58\n",
       "Daily Range - Upper Bound Travel Time (Seconds)              58\n",
       "AM Mean Travel Time (Seconds)                              1466\n",
       "AM Range - Lower Bound Travel Time (Seconds)               1466\n",
       "AM Range - Upper Bound Travel Time (Seconds)               1466\n",
       "PM Mean Travel Time (Seconds)                               928\n",
       "PM Range - Lower Bound Travel Time (Seconds)                928\n",
       "PM Range - Upper Bound Travel Time (Seconds)                928\n",
       "Midday Mean Travel Time (Seconds)                           727\n",
       "Midday Range - Lower Bound Travel Time (Seconds)            727\n",
       "Midday Range - Upper Bound Travel Time (Seconds)            727\n",
       "Evening Mean Travel Time (Seconds)                         1026\n",
       "Evening Range - Lower Bound Travel Time (Seconds)          1026\n",
       "Evening Range - Upper Bound Travel Time (Seconds)          1026\n",
       "Early Morning Mean Travel Time (Seconds)                   2411\n",
       "Early Morning Range - Lower Bound Travel Time (Seconds)    2411\n",
       "Early Morning Range - Upper Bound Travel Time (Seconds)    2411\n",
       "dtype: int64"
      ]
     },
     "execution_count": 174,
     "metadata": {},
     "output_type": "execute_result"
    }
   ],
   "source": [
    "barts_hotspots.isna().sum()"
   ]
  },
  {
   "cell_type": "code",
   "execution_count": 175,
   "metadata": {},
   "outputs": [],
   "source": [
    "barts_hotspots[\"DayOfWeek\"] = barts_hotspots[\"Date\"].dt.dayofweek"
   ]
  },
  {
   "cell_type": "code",
   "execution_count": 176,
   "metadata": {},
   "outputs": [],
   "source": [
    "hotspots = hotspots_to_all[\"Origin Movement ID\"].unique()\n",
    "barts = barts_to_all[\"Origin Movement ID\"].unique()"
   ]
  },
  {
   "cell_type": "code",
   "execution_count": 177,
   "metadata": {},
   "outputs": [
    {
     "data": {
      "text/plain": [
       "array([3603, 3692, 3760])"
      ]
     },
     "execution_count": 177,
     "metadata": {},
     "output_type": "execute_result"
    }
   ],
   "source": [
    "barts"
   ]
  },
  {
   "cell_type": "code",
   "execution_count": 178,
   "metadata": {},
   "outputs": [
    {
     "data": {
      "text/plain": [
       "array([3394, 3792, 3396])"
      ]
     },
     "execution_count": 178,
     "metadata": {},
     "output_type": "execute_result"
    }
   ],
   "source": [
    "hotspots"
   ]
  },
  {
   "cell_type": "code",
   "execution_count": 179,
   "metadata": {},
   "outputs": [
    {
     "data": {
      "text/html": [
       "<div>\n",
       "<style scoped>\n",
       "    .dataframe tbody tr th:only-of-type {\n",
       "        vertical-align: middle;\n",
       "    }\n",
       "\n",
       "    .dataframe tbody tr th {\n",
       "        vertical-align: top;\n",
       "    }\n",
       "\n",
       "    .dataframe thead th {\n",
       "        text-align: right;\n",
       "    }\n",
       "</style>\n",
       "<table border=\"1\" class=\"dataframe\">\n",
       "  <thead>\n",
       "    <tr style=\"text-align: right;\">\n",
       "      <th></th>\n",
       "      <th>sourceid</th>\n",
       "      <th>dstid</th>\n",
       "      <th>hod</th>\n",
       "      <th>mean_travel_time</th>\n",
       "      <th>standard_deviation_travel_time</th>\n",
       "      <th>geometric_mean_travel_time</th>\n",
       "      <th>geometric_standard_deviation_travel_time</th>\n",
       "    </tr>\n",
       "  </thead>\n",
       "  <tbody>\n",
       "    <tr>\n",
       "      <td>0</td>\n",
       "      <td>3768</td>\n",
       "      <td>3700</td>\n",
       "      <td>3</td>\n",
       "      <td>161.58</td>\n",
       "      <td>87.83</td>\n",
       "      <td>147.02</td>\n",
       "      <td>1.49</td>\n",
       "    </tr>\n",
       "    <tr>\n",
       "      <td>1</td>\n",
       "      <td>3772</td>\n",
       "      <td>3660</td>\n",
       "      <td>3</td>\n",
       "      <td>373.98</td>\n",
       "      <td>217.24</td>\n",
       "      <td>328.16</td>\n",
       "      <td>1.65</td>\n",
       "    </tr>\n",
       "    <tr>\n",
       "      <td>2</td>\n",
       "      <td>3751</td>\n",
       "      <td>3708</td>\n",
       "      <td>6</td>\n",
       "      <td>1197.27</td>\n",
       "      <td>259.18</td>\n",
       "      <td>1171.36</td>\n",
       "      <td>1.23</td>\n",
       "    </tr>\n",
       "    <tr>\n",
       "      <td>3</td>\n",
       "      <td>3761</td>\n",
       "      <td>3608</td>\n",
       "      <td>6</td>\n",
       "      <td>588.32</td>\n",
       "      <td>223.30</td>\n",
       "      <td>557.92</td>\n",
       "      <td>1.36</td>\n",
       "    </tr>\n",
       "    <tr>\n",
       "      <td>4</td>\n",
       "      <td>3767</td>\n",
       "      <td>3724</td>\n",
       "      <td>17</td>\n",
       "      <td>438.98</td>\n",
       "      <td>235.70</td>\n",
       "      <td>395.22</td>\n",
       "      <td>1.55</td>\n",
       "    </tr>\n",
       "  </tbody>\n",
       "</table>\n",
       "</div>"
      ],
      "text/plain": [
       "   sourceid  dstid  hod  mean_travel_time  standard_deviation_travel_time  \\\n",
       "0      3768   3700    3            161.58                           87.83   \n",
       "1      3772   3660    3            373.98                          217.24   \n",
       "2      3751   3708    6           1197.27                          259.18   \n",
       "3      3761   3608    6            588.32                          223.30   \n",
       "4      3767   3724   17            438.98                          235.70   \n",
       "\n",
       "   geometric_mean_travel_time  geometric_standard_deviation_travel_time  \n",
       "0                      147.02                                      1.49  \n",
       "1                      328.16                                      1.65  \n",
       "2                     1171.36                                      1.23  \n",
       "3                      557.92                                      1.36  \n",
       "4                      395.22                                      1.55  "
      ]
     },
     "execution_count": 179,
     "metadata": {},
     "output_type": "execute_result"
    }
   ],
   "source": [
    "hours = pd.concat([hours_q1, hours_q2], axis=0, join='outer', ignore_index=True)\n",
    "hours.head()"
   ]
  },
  {
   "cell_type": "code",
   "execution_count": 180,
   "metadata": {},
   "outputs": [],
   "source": [
    "hours = hours[(hours[\"sourceid\"].isin(hotspots) & hours[\"dstid\"].isin(barts)) | (hours[\"sourceid\"].isin(barts) & hours[\"dstid\"].isin(hotspots))]"
   ]
  },
  {
   "cell_type": "code",
   "execution_count": 181,
   "metadata": {},
   "outputs": [
    {
     "data": {
      "text/plain": [
       "<matplotlib.axes._subplots.AxesSubplot at 0x11cb27210>"
      ]
     },
     "execution_count": 181,
     "metadata": {},
     "output_type": "execute_result"
    },
    {
     "data": {
      "image/png": "[encoded data removed]",
      "text/plain": [
       "<Figure size 432x288 with 1 Axes>"
      ]
     },
     "metadata": {},
     "output_type": "display_data"
    }
   ],
   "source": [
    "means_by_hours = hours.pivot_table(index=[\"sourceid\", \"dstid\"], values=\"mean_travel_time\", columns=\"hod\", aggfunc=np.mean)\n",
    "means_by_hours.iloc[1,:].plot()"
   ]
  },
  {
   "cell_type": "code",
   "execution_count": 182,
   "metadata": {},
   "outputs": [],
   "source": [
    "locations = {3603 : 'Embarcadero Station',\n",
    "    3692 : 'Montgomery BART Station',\n",
    "    3760: 'Powell BART Station', \n",
    "    3396: 'Palace of Fine Arts', \n",
    "    3394: 'Fisherman\\'s Wharf', \n",
    "    3792: 'Oracle Park'\n",
    "    }"
   ]
  },
  {
   "cell_type": "code",
   "execution_count": 185,
   "metadata": {},
   "outputs": [
    {
     "data": {
      "text/html": [
       "<div>\n",
       "<style scoped>\n",
       "    .dataframe tbody tr th:only-of-type {\n",
       "        vertical-align: middle;\n",
       "    }\n",
       "\n",
       "    .dataframe tbody tr th {\n",
       "        vertical-align: top;\n",
       "    }\n",
       "\n",
       "    .dataframe thead th {\n",
       "        text-align: right;\n",
       "    }\n",
       "</style>\n",
       "<table border=\"1\" class=\"dataframe\">\n",
       "  <thead>\n",
       "    <tr style=\"text-align: right;\">\n",
       "      <th></th>\n",
       "      <th>Embarcadero Station to Oracle Park</th>\n",
       "      <th>Montgomery BART Station to Oracle Park</th>\n",
       "      <th>Powell BART Station to Oracle Park</th>\n",
       "      <th>Oracle Park to Embarcadero Station</th>\n",
       "      <th>Oracle Park to Montgomery BART Station</th>\n",
       "      <th>Oracle Park to Powell BART Station</th>\n",
       "    </tr>\n",
       "    <tr>\n",
       "      <th>hod</th>\n",
       "      <th></th>\n",
       "      <th></th>\n",
       "      <th></th>\n",
       "      <th></th>\n",
       "      <th></th>\n",
       "      <th></th>\n",
       "    </tr>\n",
       "  </thead>\n",
       "  <tbody>\n",
       "    <tr>\n",
       "      <td>0</td>\n",
       "      <td>415.790</td>\n",
       "      <td>365.960</td>\n",
       "      <td>594.090</td>\n",
       "      <td>448.435</td>\n",
       "      <td>394.170</td>\n",
       "      <td>555.495</td>\n",
       "    </tr>\n",
       "    <tr>\n",
       "      <td>1</td>\n",
       "      <td>430.115</td>\n",
       "      <td>351.040</td>\n",
       "      <td>554.355</td>\n",
       "      <td>497.325</td>\n",
       "      <td>380.675</td>\n",
       "      <td>602.055</td>\n",
       "    </tr>\n",
       "    <tr>\n",
       "      <td>2</td>\n",
       "      <td>403.750</td>\n",
       "      <td>338.325</td>\n",
       "      <td>494.575</td>\n",
       "      <td>371.915</td>\n",
       "      <td>379.660</td>\n",
       "      <td>547.175</td>\n",
       "    </tr>\n",
       "    <tr>\n",
       "      <td>3</td>\n",
       "      <td>421.990</td>\n",
       "      <td>447.450</td>\n",
       "      <td>678.485</td>\n",
       "      <td>339.280</td>\n",
       "      <td>349.935</td>\n",
       "      <td>NaN</td>\n",
       "    </tr>\n",
       "    <tr>\n",
       "      <td>4</td>\n",
       "      <td>467.840</td>\n",
       "      <td>575.130</td>\n",
       "      <td>772.160</td>\n",
       "      <td>378.310</td>\n",
       "      <td>414.700</td>\n",
       "      <td>650.000</td>\n",
       "    </tr>\n",
       "  </tbody>\n",
       "</table>\n",
       "</div>"
      ],
      "text/plain": [
       "     Embarcadero Station to Oracle Park  \\\n",
       "hod                                       \n",
       "0                               415.790   \n",
       "1                               430.115   \n",
       "2                               403.750   \n",
       "3                               421.990   \n",
       "4                               467.840   \n",
       "\n",
       "     Montgomery BART Station to Oracle Park  \\\n",
       "hod                                           \n",
       "0                                   365.960   \n",
       "1                                   351.040   \n",
       "2                                   338.325   \n",
       "3                                   447.450   \n",
       "4                                   575.130   \n",
       "\n",
       "     Powell BART Station to Oracle Park  Oracle Park to Embarcadero Station  \\\n",
       "hod                                                                           \n",
       "0                               594.090                             448.435   \n",
       "1                               554.355                             497.325   \n",
       "2                               494.575                             371.915   \n",
       "3                               678.485                             339.280   \n",
       "4                               772.160                             378.310   \n",
       "\n",
       "     Oracle Park to Montgomery BART Station  \\\n",
       "hod                                           \n",
       "0                                   394.170   \n",
       "1                                   380.675   \n",
       "2                                   379.660   \n",
       "3                                   349.935   \n",
       "4                                   414.700   \n",
       "\n",
       "     Oracle Park to Powell BART Station  \n",
       "hod                                      \n",
       "0                               555.495  \n",
       "1                               602.055  \n",
       "2                               547.175  \n",
       "3                                   NaN  \n",
       "4                               650.000  "
      ]
     },
     "execution_count": 185,
     "metadata": {},
     "output_type": "execute_result"
    }
   ],
   "source": [
    "times = means_by_hours.transpose().reset_index()\n",
    "times = times.set_index(\"hod\")\n",
    "times.columns = [locations[col[0]] + \" to \" + locations[col[1]] for col in times.columns]\n",
    "times.head()"
   ]
  },
  {
   "cell_type": "code",
   "execution_count": 186,
   "metadata": {},
   "outputs": [
    {
     "data": {
      "text/plain": [
       "Text(0.5, 1.0, 'Mean Travel Time at different time')"
      ]
     },
     "execution_count": 186,
     "metadata": {},
     "output_type": "execute_result"
    },
    {
     "data": {
      "image/png": "[encoded data removed]",
      "text/plain": [
       "<Figure size 432x288 with 1 Axes>"
      ]
     },
     "metadata": {},
     "output_type": "display_data"
    }
   ],
   "source": [
    "import seaborn as sns; sns.set()\n",
    "\n",
    "ax = sns.lineplot(data=times)\n",
    "plt.title(\"Mean Travel Time at different time\")"
   ]
  },
  {
   "cell_type": "code",
   "execution_count": 187,
   "metadata": {},
   "outputs": [],
   "source": [
    "distances = {\"Embarcadero Station to Oracle Park\":1.5,\n",
    " \"Montgomery BART Station to Oracle Park\": 1.4,\n",
    " \"Powell BART Station to Oracle Park\": 1.1,\n",
    "    \"Oracle Park to Embarcadero Station\":1.3,\n",
    "    \"Oracle Park to Montgomery BART Station\": 1.1,\n",
    "\"Oracle Park to Powell BART Station\":1.8}"
   ]
  },
  {
   "cell_type": "code",
   "execution_count": 188,
   "metadata": {},
   "outputs": [],
   "source": [
    "speeds = times.copy()\n",
    "\n",
    "for col in times.columns:\n",
    "    speeds[col] = distances[col] / times[col]"
   ]
  },
  {
   "cell_type": "code",
   "execution_count": 189,
   "metadata": {},
   "outputs": [
    {
     "data": {
      "text/html": [
       "<div>\n",
       "<style scoped>\n",
       "    .dataframe tbody tr th:only-of-type {\n",
       "        vertical-align: middle;\n",
       "    }\n",
       "\n",
       "    .dataframe tbody tr th {\n",
       "        vertical-align: top;\n",
       "    }\n",
       "\n",
       "    .dataframe thead th {\n",
       "        text-align: right;\n",
       "    }\n",
       "</style>\n",
       "<table border=\"1\" class=\"dataframe\">\n",
       "  <thead>\n",
       "    <tr style=\"text-align: right;\">\n",
       "      <th></th>\n",
       "      <th>Embarcadero Station to Oracle Park</th>\n",
       "      <th>Montgomery BART Station to Oracle Park</th>\n",
       "      <th>Powell BART Station to Oracle Park</th>\n",
       "      <th>Oracle Park to Embarcadero Station</th>\n",
       "      <th>Oracle Park to Montgomery BART Station</th>\n",
       "      <th>Oracle Park to Powell BART Station</th>\n",
       "    </tr>\n",
       "    <tr>\n",
       "      <th>hod</th>\n",
       "      <th></th>\n",
       "      <th></th>\n",
       "      <th></th>\n",
       "      <th></th>\n",
       "      <th></th>\n",
       "      <th></th>\n",
       "    </tr>\n",
       "  </thead>\n",
       "  <tbody>\n",
       "    <tr>\n",
       "      <td>0</td>\n",
       "      <td>0.003608</td>\n",
       "      <td>0.003826</td>\n",
       "      <td>0.001852</td>\n",
       "      <td>0.002899</td>\n",
       "      <td>0.002791</td>\n",
       "      <td>0.003240</td>\n",
       "    </tr>\n",
       "    <tr>\n",
       "      <td>1</td>\n",
       "      <td>0.003487</td>\n",
       "      <td>0.003988</td>\n",
       "      <td>0.001984</td>\n",
       "      <td>0.002614</td>\n",
       "      <td>0.002890</td>\n",
       "      <td>0.002990</td>\n",
       "    </tr>\n",
       "    <tr>\n",
       "      <td>2</td>\n",
       "      <td>0.003715</td>\n",
       "      <td>0.004138</td>\n",
       "      <td>0.002224</td>\n",
       "      <td>0.003495</td>\n",
       "      <td>0.002897</td>\n",
       "      <td>0.003290</td>\n",
       "    </tr>\n",
       "    <tr>\n",
       "      <td>3</td>\n",
       "      <td>0.003555</td>\n",
       "      <td>0.003129</td>\n",
       "      <td>0.001621</td>\n",
       "      <td>0.003832</td>\n",
       "      <td>0.003143</td>\n",
       "      <td>NaN</td>\n",
       "    </tr>\n",
       "    <tr>\n",
       "      <td>4</td>\n",
       "      <td>0.003206</td>\n",
       "      <td>0.002434</td>\n",
       "      <td>0.001425</td>\n",
       "      <td>0.003436</td>\n",
       "      <td>0.002653</td>\n",
       "      <td>0.002769</td>\n",
       "    </tr>\n",
       "  </tbody>\n",
       "</table>\n",
       "</div>"
      ],
      "text/plain": [
       "     Embarcadero Station to Oracle Park  \\\n",
       "hod                                       \n",
       "0                              0.003608   \n",
       "1                              0.003487   \n",
       "2                              0.003715   \n",
       "3                              0.003555   \n",
       "4                              0.003206   \n",
       "\n",
       "     Montgomery BART Station to Oracle Park  \\\n",
       "hod                                           \n",
       "0                                  0.003826   \n",
       "1                                  0.003988   \n",
       "2                                  0.004138   \n",
       "3                                  0.003129   \n",
       "4                                  0.002434   \n",
       "\n",
       "     Powell BART Station to Oracle Park  Oracle Park to Embarcadero Station  \\\n",
       "hod                                                                           \n",
       "0                              0.001852                            0.002899   \n",
       "1                              0.001984                            0.002614   \n",
       "2                              0.002224                            0.003495   \n",
       "3                              0.001621                            0.003832   \n",
       "4                              0.001425                            0.003436   \n",
       "\n",
       "     Oracle Park to Montgomery BART Station  \\\n",
       "hod                                           \n",
       "0                                  0.002791   \n",
       "1                                  0.002890   \n",
       "2                                  0.002897   \n",
       "3                                  0.003143   \n",
       "4                                  0.002653   \n",
       "\n",
       "     Oracle Park to Powell BART Station  \n",
       "hod                                      \n",
       "0                              0.003240  \n",
       "1                              0.002990  \n",
       "2                              0.003290  \n",
       "3                                   NaN  \n",
       "4                              0.002769  "
      ]
     },
     "execution_count": 189,
     "metadata": {},
     "output_type": "execute_result"
    }
   ],
   "source": [
    "speeds.head()"
   ]
  },
  {
   "cell_type": "code",
   "execution_count": 190,
   "metadata": {},
   "outputs": [
    {
     "data": {
      "text/plain": [
       "Text(0.5, 1.0, 'Mean Average Speed at different time')"
      ]
     },
     "execution_count": 190,
     "metadata": {},
     "output_type": "execute_result"
    },
    {
     "data": {
      "image/png": "[encoded data removed]",
      "text/plain": [
       "<Figure size 432x288 with 1 Axes>"
      ]
     },
     "metadata": {},
     "output_type": "display_data"
    }
   ],
   "source": [
    "sns.set_style(\"white\")\n",
    "ax = sns.lineplot(data=speeds, sizes=(100,100))\n",
    "plt.title(\"Mean Average Speed at different time\")"
   ]
  },
  {
   "cell_type": "code",
   "execution_count": 191,
   "metadata": {},
   "outputs": [],
   "source": [
    "speeds.to_csv(\"data/avg_speed_per_path.csv\", index=False)"
   ]
  },
  {
   "cell_type": "code",
   "execution_count": 192,
   "metadata": {},
   "outputs": [
    {
     "data": {
      "text/html": [
       "<div>\n",
       "<style scoped>\n",
       "    .dataframe tbody tr th:only-of-type {\n",
       "        vertical-align: middle;\n",
       "    }\n",
       "\n",
       "    .dataframe tbody tr th {\n",
       "        vertical-align: top;\n",
       "    }\n",
       "\n",
       "    .dataframe thead th {\n",
       "        text-align: right;\n",
       "    }\n",
       "</style>\n",
       "<table border=\"1\" class=\"dataframe\">\n",
       "  <thead>\n",
       "    <tr style=\"text-align: right;\">\n",
       "      <th></th>\n",
       "      <th>hod</th>\n",
       "      <th>Embarcadero Station to Oracle Park</th>\n",
       "      <th>Montgomery BART Station to Oracle Park</th>\n",
       "      <th>Powell BART Station to Oracle Park</th>\n",
       "      <th>Oracle Park to Embarcadero Station</th>\n",
       "      <th>Oracle Park to Montgomery BART Station</th>\n",
       "      <th>Oracle Park to Powell BART Station</th>\n",
       "    </tr>\n",
       "  </thead>\n",
       "  <tbody>\n",
       "    <tr>\n",
       "      <td>0</td>\n",
       "      <td>0</td>\n",
       "      <td>415.790</td>\n",
       "      <td>365.960</td>\n",
       "      <td>594.090</td>\n",
       "      <td>448.435</td>\n",
       "      <td>394.170</td>\n",
       "      <td>555.495</td>\n",
       "    </tr>\n",
       "    <tr>\n",
       "      <td>1</td>\n",
       "      <td>1</td>\n",
       "      <td>430.115</td>\n",
       "      <td>351.040</td>\n",
       "      <td>554.355</td>\n",
       "      <td>497.325</td>\n",
       "      <td>380.675</td>\n",
       "      <td>602.055</td>\n",
       "    </tr>\n",
       "    <tr>\n",
       "      <td>2</td>\n",
       "      <td>2</td>\n",
       "      <td>403.750</td>\n",
       "      <td>338.325</td>\n",
       "      <td>494.575</td>\n",
       "      <td>371.915</td>\n",
       "      <td>379.660</td>\n",
       "      <td>547.175</td>\n",
       "    </tr>\n",
       "    <tr>\n",
       "      <td>3</td>\n",
       "      <td>3</td>\n",
       "      <td>421.990</td>\n",
       "      <td>447.450</td>\n",
       "      <td>678.485</td>\n",
       "      <td>339.280</td>\n",
       "      <td>349.935</td>\n",
       "      <td>NaN</td>\n",
       "    </tr>\n",
       "    <tr>\n",
       "      <td>4</td>\n",
       "      <td>4</td>\n",
       "      <td>467.840</td>\n",
       "      <td>575.130</td>\n",
       "      <td>772.160</td>\n",
       "      <td>378.310</td>\n",
       "      <td>414.700</td>\n",
       "      <td>650.000</td>\n",
       "    </tr>\n",
       "  </tbody>\n",
       "</table>\n",
       "</div>"
      ],
      "text/plain": [
       "   hod  Embarcadero Station to Oracle Park  \\\n",
       "0    0                             415.790   \n",
       "1    1                             430.115   \n",
       "2    2                             403.750   \n",
       "3    3                             421.990   \n",
       "4    4                             467.840   \n",
       "\n",
       "   Montgomery BART Station to Oracle Park  Powell BART Station to Oracle Park  \\\n",
       "0                                 365.960                             594.090   \n",
       "1                                 351.040                             554.355   \n",
       "2                                 338.325                             494.575   \n",
       "3                                 447.450                             678.485   \n",
       "4                                 575.130                             772.160   \n",
       "\n",
       "   Oracle Park to Embarcadero Station  Oracle Park to Montgomery BART Station  \\\n",
       "0                             448.435                                 394.170   \n",
       "1                             497.325                                 380.675   \n",
       "2                             371.915                                 379.660   \n",
       "3                             339.280                                 349.935   \n",
       "4                             378.310                                 414.700   \n",
       "\n",
       "   Oracle Park to Powell BART Station  \n",
       "0                             555.495  \n",
       "1                             602.055  \n",
       "2                             547.175  \n",
       "3                                 NaN  \n",
       "4                             650.000  "
      ]
     },
     "execution_count": 192,
     "metadata": {},
     "output_type": "execute_result"
    }
   ],
   "source": [
    "times.reset_index().head()"
   ]
  },
  {
   "cell_type": "code",
   "execution_count": 193,
   "metadata": {},
   "outputs": [],
   "source": [
    "df = barts_hotspots.copy()"
   ]
  },
  {
   "cell_type": "code",
   "execution_count": 194,
   "metadata": {},
   "outputs": [],
   "source": [
    "df[\"Month\"] = df[\"Date\"].dt.month"
   ]
  },
  {
   "cell_type": "code",
   "execution_count": 195,
   "metadata": {},
   "outputs": [
    {
     "data": {
      "text/html": [
       "<div>\n",
       "<style scoped>\n",
       "    .dataframe tbody tr th:only-of-type {\n",
       "        vertical-align: middle;\n",
       "    }\n",
       "\n",
       "    .dataframe tbody tr th {\n",
       "        vertical-align: top;\n",
       "    }\n",
       "\n",
       "    .dataframe thead th {\n",
       "        text-align: right;\n",
       "    }\n",
       "</style>\n",
       "<table border=\"1\" class=\"dataframe\">\n",
       "  <thead>\n",
       "    <tr style=\"text-align: right;\">\n",
       "      <th></th>\n",
       "      <th>Date</th>\n",
       "      <th>Origin Movement ID</th>\n",
       "      <th>Origin Display Name</th>\n",
       "      <th>Destination Movement ID</th>\n",
       "      <th>Destination Display Name</th>\n",
       "      <th>Daily Mean Travel Time (Seconds)</th>\n",
       "      <th>Daily Range - Lower Bound Travel Time (Seconds)</th>\n",
       "      <th>Daily Range - Upper Bound Travel Time (Seconds)</th>\n",
       "      <th>AM Mean Travel Time (Seconds)</th>\n",
       "      <th>AM Range - Lower Bound Travel Time (Seconds)</th>\n",
       "      <th>...</th>\n",
       "      <th>Midday Range - Lower Bound Travel Time (Seconds)</th>\n",
       "      <th>Midday Range - Upper Bound Travel Time (Seconds)</th>\n",
       "      <th>Evening Mean Travel Time (Seconds)</th>\n",
       "      <th>Evening Range - Lower Bound Travel Time (Seconds)</th>\n",
       "      <th>Evening Range - Upper Bound Travel Time (Seconds)</th>\n",
       "      <th>Early Morning Mean Travel Time (Seconds)</th>\n",
       "      <th>Early Morning Range - Lower Bound Travel Time (Seconds)</th>\n",
       "      <th>Early Morning Range - Upper Bound Travel Time (Seconds)</th>\n",
       "      <th>DayOfWeek</th>\n",
       "      <th>Month</th>\n",
       "    </tr>\n",
       "  </thead>\n",
       "  <tbody>\n",
       "    <tr>\n",
       "      <td>0</td>\n",
       "      <td>2019-06-09</td>\n",
       "      <td>3396</td>\n",
       "      <td>The Palace Of Fine Arts, 3601 Lyon St, San Fra...</td>\n",
       "      <td>3603</td>\n",
       "      <td>Embarcadero, San Francisco, CA</td>\n",
       "      <td>1588.0</td>\n",
       "      <td>1054.0</td>\n",
       "      <td>2392.0</td>\n",
       "      <td>NaN</td>\n",
       "      <td>NaN</td>\n",
       "      <td>...</td>\n",
       "      <td>NaN</td>\n",
       "      <td>NaN</td>\n",
       "      <td>NaN</td>\n",
       "      <td>NaN</td>\n",
       "      <td>NaN</td>\n",
       "      <td>NaN</td>\n",
       "      <td>NaN</td>\n",
       "      <td>NaN</td>\n",
       "      <td>6</td>\n",
       "      <td>6</td>\n",
       "    </tr>\n",
       "    <tr>\n",
       "      <td>1</td>\n",
       "      <td>2019-04-28</td>\n",
       "      <td>3603</td>\n",
       "      <td>Embarcadero, San Francisco, CA</td>\n",
       "      <td>3394</td>\n",
       "      <td>Fisherman's Wharf, San Francisco, CA</td>\n",
       "      <td>639.0</td>\n",
       "      <td>512.0</td>\n",
       "      <td>796.0</td>\n",
       "      <td>NaN</td>\n",
       "      <td>NaN</td>\n",
       "      <td>...</td>\n",
       "      <td>524.0</td>\n",
       "      <td>817.0</td>\n",
       "      <td>608.0</td>\n",
       "      <td>492.0</td>\n",
       "      <td>753.0</td>\n",
       "      <td>NaN</td>\n",
       "      <td>NaN</td>\n",
       "      <td>NaN</td>\n",
       "      <td>6</td>\n",
       "      <td>4</td>\n",
       "    </tr>\n",
       "    <tr>\n",
       "      <td>2</td>\n",
       "      <td>2019-05-18</td>\n",
       "      <td>3603</td>\n",
       "      <td>Embarcadero, San Francisco, CA</td>\n",
       "      <td>3394</td>\n",
       "      <td>Fisherman's Wharf, San Francisco, CA</td>\n",
       "      <td>730.0</td>\n",
       "      <td>520.0</td>\n",
       "      <td>1024.0</td>\n",
       "      <td>NaN</td>\n",
       "      <td>NaN</td>\n",
       "      <td>...</td>\n",
       "      <td>590.0</td>\n",
       "      <td>1061.0</td>\n",
       "      <td>569.0</td>\n",
       "      <td>406.0</td>\n",
       "      <td>797.0</td>\n",
       "      <td>NaN</td>\n",
       "      <td>NaN</td>\n",
       "      <td>NaN</td>\n",
       "      <td>5</td>\n",
       "      <td>5</td>\n",
       "    </tr>\n",
       "    <tr>\n",
       "      <td>3</td>\n",
       "      <td>2019-04-18</td>\n",
       "      <td>3792</td>\n",
       "      <td>Oracle Park, 24 Willie Mays Plaza, San Francis...</td>\n",
       "      <td>3603</td>\n",
       "      <td>Embarcadero, San Francisco, CA</td>\n",
       "      <td>512.0</td>\n",
       "      <td>371.0</td>\n",
       "      <td>705.0</td>\n",
       "      <td>648.0</td>\n",
       "      <td>461.0</td>\n",
       "      <td>...</td>\n",
       "      <td>398.0</td>\n",
       "      <td>702.0</td>\n",
       "      <td>442.0</td>\n",
       "      <td>321.0</td>\n",
       "      <td>608.0</td>\n",
       "      <td>363.0</td>\n",
       "      <td>297.0</td>\n",
       "      <td>443.0</td>\n",
       "      <td>3</td>\n",
       "      <td>4</td>\n",
       "    </tr>\n",
       "    <tr>\n",
       "      <td>4</td>\n",
       "      <td>2019-04-08</td>\n",
       "      <td>3792</td>\n",
       "      <td>Oracle Park, 24 Willie Mays Plaza, San Francis...</td>\n",
       "      <td>3603</td>\n",
       "      <td>Embarcadero, San Francisco, CA</td>\n",
       "      <td>505.0</td>\n",
       "      <td>364.0</td>\n",
       "      <td>701.0</td>\n",
       "      <td>621.0</td>\n",
       "      <td>489.0</td>\n",
       "      <td>...</td>\n",
       "      <td>339.0</td>\n",
       "      <td>542.0</td>\n",
       "      <td>502.0</td>\n",
       "      <td>354.0</td>\n",
       "      <td>711.0</td>\n",
       "      <td>NaN</td>\n",
       "      <td>NaN</td>\n",
       "      <td>NaN</td>\n",
       "      <td>0</td>\n",
       "      <td>4</td>\n",
       "    </tr>\n",
       "  </tbody>\n",
       "</table>\n",
       "<p>5 rows × 25 columns</p>\n",
       "</div>"
      ],
      "text/plain": [
       "        Date  Origin Movement ID  \\\n",
       "0 2019-06-09                3396   \n",
       "1 2019-04-28                3603   \n",
       "2 2019-05-18                3603   \n",
       "3 2019-04-18                3792   \n",
       "4 2019-04-08                3792   \n",
       "\n",
       "                                 Origin Display Name  Destination Movement ID  \\\n",
       "0  The Palace Of Fine Arts, 3601 Lyon St, San Fra...                     3603   \n",
       "1                     Embarcadero, San Francisco, CA                     3394   \n",
       "2                     Embarcadero, San Francisco, CA                     3394   \n",
       "3  Oracle Park, 24 Willie Mays Plaza, San Francis...                     3603   \n",
       "4  Oracle Park, 24 Willie Mays Plaza, San Francis...                     3603   \n",
       "\n",
       "               Destination Display Name  Daily Mean Travel Time (Seconds)  \\\n",
       "0        Embarcadero, San Francisco, CA                            1588.0   \n",
       "1  Fisherman's Wharf, San Francisco, CA                             639.0   \n",
       "2  Fisherman's Wharf, San Francisco, CA                             730.0   \n",
       "3        Embarcadero, San Francisco, CA                             512.0   \n",
       "4        Embarcadero, San Francisco, CA                             505.0   \n",
       "\n",
       "   Daily Range - Lower Bound Travel Time (Seconds)  \\\n",
       "0                                           1054.0   \n",
       "1                                            512.0   \n",
       "2                                            520.0   \n",
       "3                                            371.0   \n",
       "4                                            364.0   \n",
       "\n",
       "   Daily Range - Upper Bound Travel Time (Seconds)  \\\n",
       "0                                           2392.0   \n",
       "1                                            796.0   \n",
       "2                                           1024.0   \n",
       "3                                            705.0   \n",
       "4                                            701.0   \n",
       "\n",
       "   AM Mean Travel Time (Seconds)  \\\n",
       "0                            NaN   \n",
       "1                            NaN   \n",
       "2                            NaN   \n",
       "3                          648.0   \n",
       "4                          621.0   \n",
       "\n",
       "   AM Range - Lower Bound Travel Time (Seconds)  ...  \\\n",
       "0                                           NaN  ...   \n",
       "1                                           NaN  ...   \n",
       "2                                           NaN  ...   \n",
       "3                                         461.0  ...   \n",
       "4                                         489.0  ...   \n",
       "\n",
       "   Midday Range - Lower Bound Travel Time (Seconds)  \\\n",
       "0                                               NaN   \n",
       "1                                             524.0   \n",
       "2                                             590.0   \n",
       "3                                             398.0   \n",
       "4                                             339.0   \n",
       "\n",
       "   Midday Range - Upper Bound Travel Time (Seconds)  \\\n",
       "0                                               NaN   \n",
       "1                                             817.0   \n",
       "2                                            1061.0   \n",
       "3                                             702.0   \n",
       "4                                             542.0   \n",
       "\n",
       "   Evening Mean Travel Time (Seconds)  \\\n",
       "0                                 NaN   \n",
       "1                               608.0   \n",
       "2                               569.0   \n",
       "3                               442.0   \n",
       "4                               502.0   \n",
       "\n",
       "   Evening Range - Lower Bound Travel Time (Seconds)  \\\n",
       "0                                                NaN   \n",
       "1                                              492.0   \n",
       "2                                              406.0   \n",
       "3                                              321.0   \n",
       "4                                              354.0   \n",
       "\n",
       "   Evening Range - Upper Bound Travel Time (Seconds)  \\\n",
       "0                                                NaN   \n",
       "1                                              753.0   \n",
       "2                                              797.0   \n",
       "3                                              608.0   \n",
       "4                                              711.0   \n",
       "\n",
       "   Early Morning Mean Travel Time (Seconds)  \\\n",
       "0                                       NaN   \n",
       "1                                       NaN   \n",
       "2                                       NaN   \n",
       "3                                     363.0   \n",
       "4                                       NaN   \n",
       "\n",
       "   Early Morning Range - Lower Bound Travel Time (Seconds)  \\\n",
       "0                                                NaN         \n",
       "1                                                NaN         \n",
       "2                                                NaN         \n",
       "3                                              297.0         \n",
       "4                                                NaN         \n",
       "\n",
       "   Early Morning Range - Upper Bound Travel Time (Seconds)  DayOfWeek  Month  \n",
       "0                                                NaN                6      6  \n",
       "1                                                NaN                6      4  \n",
       "2                                                NaN                5      5  \n",
       "3                                              443.0                3      4  \n",
       "4                                                NaN                0      4  \n",
       "\n",
       "[5 rows x 25 columns]"
      ]
     },
     "execution_count": 195,
     "metadata": {},
     "output_type": "execute_result"
    }
   ],
   "source": [
    "df.head()"
   ]
  },
  {
   "cell_type": "code",
   "execution_count": 196,
   "metadata": {},
   "outputs": [
    {
     "data": {
      "text/plain": [
       "Date                                                          0\n",
       "Origin Movement ID                                            0\n",
       "Origin Display Name                                           0\n",
       "Destination Movement ID                                       0\n",
       "Destination Display Name                                      0\n",
       "Daily Mean Travel Time (Seconds)                             58\n",
       "Daily Range - Lower Bound Travel Time (Seconds)              58\n",
       "Daily Range - Upper Bound Travel Time (Seconds)              58\n",
       "AM Mean Travel Time (Seconds)                              1466\n",
       "AM Range - Lower Bound Travel Time (Seconds)               1466\n",
       "AM Range - Upper Bound Travel Time (Seconds)               1466\n",
       "PM Mean Travel Time (Seconds)                               928\n",
       "PM Range - Lower Bound Travel Time (Seconds)                928\n",
       "PM Range - Upper Bound Travel Time (Seconds)                928\n",
       "Midday Mean Travel Time (Seconds)                           727\n",
       "Midday Range - Lower Bound Travel Time (Seconds)            727\n",
       "Midday Range - Upper Bound Travel Time (Seconds)            727\n",
       "Evening Mean Travel Time (Seconds)                         1026\n",
       "Evening Range - Lower Bound Travel Time (Seconds)          1026\n",
       "Evening Range - Upper Bound Travel Time (Seconds)          1026\n",
       "Early Morning Mean Travel Time (Seconds)                   2411\n",
       "Early Morning Range - Lower Bound Travel Time (Seconds)    2411\n",
       "Early Morning Range - Upper Bound Travel Time (Seconds)    2411\n",
       "DayOfWeek                                                     0\n",
       "Month                                                         0\n",
       "dtype: int64"
      ]
     },
     "execution_count": 196,
     "metadata": {},
     "output_type": "execute_result"
    }
   ],
   "source": [
    "df.isna().sum()"
   ]
  },
  {
   "cell_type": "code",
   "execution_count": 197,
   "metadata": {},
   "outputs": [],
   "source": [
    "df = df.dropna()"
   ]
  },
  {
   "cell_type": "code",
   "execution_count": 198,
   "metadata": {},
   "outputs": [],
   "source": [
    "from sklearn.linear_model import LinearRegression\n",
    "\n",
    "X = df[[\"DayOfWeek\", \"Month\"]]\n",
    "y = df[\"Daily Mean Travel Time (Seconds)\"]\n",
    "reg = LinearRegression().fit(X, y)"
   ]
  },
  {
   "cell_type": "code",
   "execution_count": 199,
   "metadata": {},
   "outputs": [
    {
     "data": {
      "text/plain": [
       "array([670.47084148])"
      ]
     },
     "execution_count": 199,
     "metadata": {},
     "output_type": "execute_result"
    }
   ],
   "source": [
    "reg.predict([[0,6]])"
   ]
  },
  {
   "cell_type": "code",
   "execution_count": 201,
   "metadata": {},
   "outputs": [
    {
     "data": {
      "text/html": [
       "<div>\n",
       "<style scoped>\n",
       "    .dataframe tbody tr th:only-of-type {\n",
       "        vertical-align: middle;\n",
       "    }\n",
       "\n",
       "    .dataframe tbody tr th {\n",
       "        vertical-align: top;\n",
       "    }\n",
       "\n",
       "    .dataframe thead th {\n",
       "        text-align: right;\n",
       "    }\n",
       "</style>\n",
       "<table border=\"1\" class=\"dataframe\">\n",
       "  <thead>\n",
       "    <tr style=\"text-align: right;\">\n",
       "      <th></th>\n",
       "      <th>Date</th>\n",
       "      <th>Origin Movement ID</th>\n",
       "      <th>Origin Display Name</th>\n",
       "      <th>Destination Movement ID</th>\n",
       "      <th>Destination Display Name</th>\n",
       "      <th>Daily Mean Travel Time (Seconds)</th>\n",
       "      <th>Daily Range - Lower Bound Travel Time (Seconds)</th>\n",
       "      <th>Daily Range - Upper Bound Travel Time (Seconds)</th>\n",
       "      <th>AM Mean Travel Time (Seconds)</th>\n",
       "      <th>AM Range - Lower Bound Travel Time (Seconds)</th>\n",
       "      <th>...</th>\n",
       "      <th>Midday Range - Lower Bound Travel Time (Seconds)</th>\n",
       "      <th>Midday Range - Upper Bound Travel Time (Seconds)</th>\n",
       "      <th>Evening Mean Travel Time (Seconds)</th>\n",
       "      <th>Evening Range - Lower Bound Travel Time (Seconds)</th>\n",
       "      <th>Evening Range - Upper Bound Travel Time (Seconds)</th>\n",
       "      <th>Early Morning Mean Travel Time (Seconds)</th>\n",
       "      <th>Early Morning Range - Lower Bound Travel Time (Seconds)</th>\n",
       "      <th>Early Morning Range - Upper Bound Travel Time (Seconds)</th>\n",
       "      <th>DayOfWeek</th>\n",
       "      <th>Month</th>\n",
       "    </tr>\n",
       "  </thead>\n",
       "  <tbody>\n",
       "    <tr>\n",
       "      <td>3</td>\n",
       "      <td>2019-04-18</td>\n",
       "      <td>3792</td>\n",
       "      <td>Oracle Park, 24 Willie Mays Plaza, San Francis...</td>\n",
       "      <td>3603</td>\n",
       "      <td>Embarcadero, San Francisco, CA</td>\n",
       "      <td>512.0</td>\n",
       "      <td>371.0</td>\n",
       "      <td>705.0</td>\n",
       "      <td>648.0</td>\n",
       "      <td>461.0</td>\n",
       "      <td>...</td>\n",
       "      <td>398.0</td>\n",
       "      <td>702.0</td>\n",
       "      <td>442.0</td>\n",
       "      <td>321.0</td>\n",
       "      <td>608.0</td>\n",
       "      <td>363.0</td>\n",
       "      <td>297.0</td>\n",
       "      <td>443.0</td>\n",
       "      <td>3</td>\n",
       "      <td>4</td>\n",
       "    </tr>\n",
       "  </tbody>\n",
       "</table>\n",
       "<p>1 rows × 25 columns</p>\n",
       "</div>"
      ],
      "text/plain": [
       "        Date  Origin Movement ID  \\\n",
       "3 2019-04-18                3792   \n",
       "\n",
       "                                 Origin Display Name  Destination Movement ID  \\\n",
       "3  Oracle Park, 24 Willie Mays Plaza, San Francis...                     3603   \n",
       "\n",
       "         Destination Display Name  Daily Mean Travel Time (Seconds)  \\\n",
       "3  Embarcadero, San Francisco, CA                             512.0   \n",
       "\n",
       "   Daily Range - Lower Bound Travel Time (Seconds)  \\\n",
       "3                                            371.0   \n",
       "\n",
       "   Daily Range - Upper Bound Travel Time (Seconds)  \\\n",
       "3                                            705.0   \n",
       "\n",
       "   AM Mean Travel Time (Seconds)  \\\n",
       "3                          648.0   \n",
       "\n",
       "   AM Range - Lower Bound Travel Time (Seconds)  ...  \\\n",
       "3                                         461.0  ...   \n",
       "\n",
       "   Midday Range - Lower Bound Travel Time (Seconds)  \\\n",
       "3                                             398.0   \n",
       "\n",
       "   Midday Range - Upper Bound Travel Time (Seconds)  \\\n",
       "3                                             702.0   \n",
       "\n",
       "   Evening Mean Travel Time (Seconds)  \\\n",
       "3                               442.0   \n",
       "\n",
       "   Evening Range - Lower Bound Travel Time (Seconds)  \\\n",
       "3                                              321.0   \n",
       "\n",
       "   Evening Range - Upper Bound Travel Time (Seconds)  \\\n",
       "3                                              608.0   \n",
       "\n",
       "   Early Morning Mean Travel Time (Seconds)  \\\n",
       "3                                     363.0   \n",
       "\n",
       "   Early Morning Range - Lower Bound Travel Time (Seconds)  \\\n",
       "3                                              297.0         \n",
       "\n",
       "   Early Morning Range - Upper Bound Travel Time (Seconds)  DayOfWeek  Month  \n",
       "3                                              443.0                3      4  \n",
       "\n",
       "[1 rows x 25 columns]"
      ]
     },
     "execution_count": 201,
     "metadata": {},
     "output_type": "execute_result"
    }
   ],
   "source": [
    "df.head(1)"
   ]
  },
  {
   "cell_type": "markdown",
   "metadata": {},
   "source": [
    "# Logistic Regression"
   ]
  },
  {
   "cell_type": "code",
   "execution_count": 203,
   "metadata": {},
   "outputs": [
    {
     "data": {
      "text/plain": [
       "OneHotEncoder(categorical_features=None, categories=None, drop=None,\n",
       "              dtype=<class 'numpy.float64'>, handle_unknown='ignore',\n",
       "              n_values=None, sparse=True)"
      ]
     },
     "execution_count": 203,
     "metadata": {},
     "output_type": "execute_result"
    }
   ],
   "source": [
    "from sklearn.preprocessing import OneHotEncoder\n",
    "\n",
    "enc = OneHotEncoder(handle_unknown='ignore')\n",
    "enc.fit(df[[\"Origin Movement ID\"]])"
   ]
  },
  {
   "cell_type": "code",
   "execution_count": 206,
   "metadata": {},
   "outputs": [
    {
     "data": {
      "text/plain": [
       "array([[0., 0., 0., 0., 1.],\n",
       "       [1., 0., 0., 0., 0.],\n",
       "       [0., 1., 0., 0., 0.],\n",
       "       ...,\n",
       "       [0., 0., 0., 1., 0.],\n",
       "       [1., 0., 0., 0., 0.],\n",
       "       [0., 0., 0., 1., 0.]])"
      ]
     },
     "execution_count": 206,
     "metadata": {},
     "output_type": "execute_result"
    }
   ],
   "source": [
    "enc.transform(df[[\"Origin Movement ID\"]]).toarray()"
   ]
  },
  {
   "cell_type": "code",
   "execution_count": 262,
   "metadata": {},
   "outputs": [],
   "source": [
    "X = df[[\"DayOfWeek\", \"Month\"]].to_numpy()\n",
    "enc = OneHotEncoder(handle_unknown='ignore')\n",
    "enc.fit(df[[\"Origin Movement ID\", \"Destination Movement ID\"]])\n",
    "X = np.append(X, enc.transform(df[[\"Origin Movement ID\", \"Destination Movement ID\"]]).toarray(), axis=1)\n",
    "y = df[\"Daily Mean Travel Time (Seconds)\"]\n",
    "reg = LinearRegression().fit(X, y)"
   ]
  },
  {
   "cell_type": "code",
   "execution_count": 229,
   "metadata": {},
   "outputs": [],
   "source": [
    "from sklearn.model_selection import train_test_split\n",
    "\n",
    "from keras.preprocessing.text import Tokenizer\n",
    "from keras.preprocessing.sequence import pad_sequences\n"
   ]
  },
  {
   "cell_type": "code",
   "execution_count": 263,
   "metadata": {},
   "outputs": [],
   "source": [
    "y = np.transpose(np.array(y, ndmin=2))"
   ]
  },
  {
   "cell_type": "code",
   "execution_count": 264,
   "metadata": {},
   "outputs": [
    {
     "data": {
      "text/plain": [
       "(726, 12)"
      ]
     },
     "execution_count": 264,
     "metadata": {},
     "output_type": "execute_result"
    }
   ],
   "source": [
    "X.shape"
   ]
  },
  {
   "cell_type": "code",
   "execution_count": 265,
   "metadata": {},
   "outputs": [
    {
     "data": {
      "text/plain": [
       "(726, 1)"
      ]
     },
     "execution_count": 265,
     "metadata": {},
     "output_type": "execute_result"
    }
   ],
   "source": [
    "y.shape"
   ]
  },
  {
   "cell_type": "code",
   "execution_count": 267,
   "metadata": {},
   "outputs": [],
   "source": [
    "data = np.append(X,y,axis=1)"
   ]
  },
  {
   "cell_type": "code",
   "execution_count": 268,
   "metadata": {},
   "outputs": [
    {
     "name": "stdout",
     "output_type": "stream",
     "text": [
      "Train size:(580, 13)\n",
      "Validation size:(73, 13)\n",
      "Test size:(73, 13)\n"
     ]
    }
   ],
   "source": [
    "train_df, test_df = train_test_split(data, test_size=0.1)\n",
    "train_df, val_df = train_test_split(train_df, test_size=(1/9))\n",
    "print(\"Train size:{}\".format(train_df.shape))\n",
    "print(\"Validation size:{}\".format(val_df.shape))\n",
    "print(\"Test size:{}\".format(test_df.shape))"
   ]
  },
  {
   "cell_type": "code",
   "execution_count": 272,
   "metadata": {},
   "outputs": [
    {
     "data": {
      "text/plain": [
       "array([[0.000e+00, 5.000e+00, 0.000e+00, ..., 0.000e+00, 1.000e+00,\n",
       "        5.480e+02],\n",
       "       [0.000e+00, 2.000e+00, 0.000e+00, ..., 0.000e+00, 0.000e+00,\n",
       "        5.610e+02],\n",
       "       [2.000e+00, 3.000e+00, 0.000e+00, ..., 0.000e+00, 1.000e+00,\n",
       "        6.660e+02],\n",
       "       ...,\n",
       "       [3.000e+00, 5.000e+00, 1.000e+00, ..., 0.000e+00, 0.000e+00,\n",
       "        1.043e+03],\n",
       "       [3.000e+00, 4.000e+00, 1.000e+00, ..., 0.000e+00, 0.000e+00,\n",
       "        9.740e+02],\n",
       "       [6.000e+00, 6.000e+00, 0.000e+00, ..., 0.000e+00, 0.000e+00,\n",
       "        6.950e+02]])"
      ]
     },
     "execution_count": 272,
     "metadata": {},
     "output_type": "execute_result"
    }
   ],
   "source": [
    "train_df"
   ]
  },
  {
   "cell_type": "code",
   "execution_count": 275,
   "metadata": {},
   "outputs": [
    {
     "data": {
      "text/plain": [
       "(580, 13)"
      ]
     },
     "execution_count": 275,
     "metadata": {},
     "output_type": "execute_result"
    }
   ],
   "source": [
    "train_df.shape"
   ]
  },
  {
   "cell_type": "code",
   "execution_count": 276,
   "metadata": {},
   "outputs": [
    {
     "data": {
      "text/plain": [
       "array([[0., 5., 0., ..., 0., 0., 1.],\n",
       "       [0., 2., 0., ..., 0., 0., 0.],\n",
       "       [2., 3., 0., ..., 0., 0., 1.],\n",
       "       ...,\n",
       "       [3., 5., 1., ..., 1., 0., 0.],\n",
       "       [3., 4., 1., ..., 1., 0., 0.],\n",
       "       [6., 6., 0., ..., 0., 0., 0.]])"
      ]
     },
     "execution_count": 276,
     "metadata": {},
     "output_type": "execute_result"
    }
   ],
   "source": [
    "train_df[:,:-1]"
   ]
  },
  {
   "cell_type": "code",
   "execution_count": 277,
   "metadata": {},
   "outputs": [],
   "source": [
    "reg = LinearRegression().fit(train_df[:,:-1], train_df[:,-1])"
   ]
  },
  {
   "cell_type": "code",
   "execution_count": 278,
   "metadata": {},
   "outputs": [
    {
     "data": {
      "text/plain": [
       "0.8443321404894878"
      ]
     },
     "execution_count": 278,
     "metadata": {},
     "output_type": "execute_result"
    }
   ],
   "source": [
    "reg.score(val_df[:,:-1], val_df[:,-1])"
   ]
  },
  {
   "cell_type": "code",
   "execution_count": null,
   "metadata": {},
   "outputs": [],
   "source": []
  }
 ],
 "metadata": {
  "kernelspec": {
   "display_name": "Python 3",
   "language": "python",
   "name": "python3"
  },
  "language_info": {
   "codemirror_mode": {
    "name": "ipython",
    "version": 3
   },
   "file_extension": ".py",
   "mimetype": "text/x-python",
   "name": "python",
   "nbconvert_exporter": "python",
   "pygments_lexer": "ipython3",
   "version": "3.7.4"
  }
 },
 "nbformat": 4,
 "nbformat_minor": 2
}
