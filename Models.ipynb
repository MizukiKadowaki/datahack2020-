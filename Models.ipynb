{
 "cells": [
  {
   "cell_type": "code",
   "execution_count": 2,
   "metadata": {},
   "outputs": [],
   "source": [
    "import pandas as pd\n",
    "import numpy as np\n",
    "import matplotlib.pyplot as plt\n",
    "from sklearn.model_selection import train_test_split\n",
    "from keras.preprocessing.text import Tokenizer\n",
    "from keras.preprocessing.sequence import pad_sequences"
   ]
  },
  {
   "cell_type": "code",
   "execution_count": 3,
   "metadata": {},
   "outputs": [],
   "source": [
    "barts_hotspots = pd.read_csv(\"data/barts_hotspots.csv\")\n",
    "barts_to_all = pd.read_csv(\"data/barts_to_all.csv\")\n",
    "hotspots_to_all = pd.read_csv(\"data/hotspots_to_all.csv\")"
   ]
  },
  {
   "cell_type": "code",
   "execution_count": 7,
   "metadata": {},
   "outputs": [],
   "source": [
    "locations = {3603 : 'Embarcadero Station',3692 : 'Montgomery BART Station',3760: 'Powell BART Station', 3396: 'Palace of Fine Arts', 3394: 'Fisherman\\'s Wharf', 3792: 'Oracle Park'}\n",
    "\n",
    "distances = {\"Embarcadero Station to Oracle Park\":1.5,\n",
    " \"Montgomery BART Station to Oracle Park\": 1.4,\n",
    " \"Powell BART Station to Oracle Park\": 1.1,\n",
    "    \"Oracle Park to Embarcadero Station\":1.3,\n",
    "    \"Oracle Park to Montgomery BART Station\": 1.1,\n",
    "\"Oracle Park to Powell BART Station\":1.8}"
   ]
  },
  {
   "cell_type": "code",
   "execution_count": 4,
   "metadata": {},
   "outputs": [],
   "source": [
    "# Raw data for input and output\n",
    "df = pd.read_csv(\"data/raw_data.csv\")"
   ]
  },
  {
   "cell_type": "code",
   "execution_count": 5,
   "metadata": {},
   "outputs": [
    {
     "data": {
      "text/html": [
       "<div>\n",
       "<style scoped>\n",
       "    .dataframe tbody tr th:only-of-type {\n",
       "        vertical-align: middle;\n",
       "    }\n",
       "\n",
       "    .dataframe tbody tr th {\n",
       "        vertical-align: top;\n",
       "    }\n",
       "\n",
       "    .dataframe thead th {\n",
       "        text-align: right;\n",
       "    }\n",
       "</style>\n",
       "<table border=\"1\" class=\"dataframe\">\n",
       "  <thead>\n",
       "    <tr style=\"text-align: right;\">\n",
       "      <th></th>\n",
       "      <th>Date</th>\n",
       "      <th>Origin Movement ID</th>\n",
       "      <th>Origin Display Name</th>\n",
       "      <th>Destination Movement ID</th>\n",
       "      <th>Destination Display Name</th>\n",
       "      <th>Daily Mean Travel Time (Seconds)</th>\n",
       "      <th>Daily Range - Lower Bound Travel Time (Seconds)</th>\n",
       "      <th>Daily Range - Upper Bound Travel Time (Seconds)</th>\n",
       "      <th>AM Mean Travel Time (Seconds)</th>\n",
       "      <th>AM Range - Lower Bound Travel Time (Seconds)</th>\n",
       "      <th>...</th>\n",
       "      <th>Midday Range - Lower Bound Travel Time (Seconds)</th>\n",
       "      <th>Midday Range - Upper Bound Travel Time (Seconds)</th>\n",
       "      <th>Evening Mean Travel Time (Seconds)</th>\n",
       "      <th>Evening Range - Lower Bound Travel Time (Seconds)</th>\n",
       "      <th>Evening Range - Upper Bound Travel Time (Seconds)</th>\n",
       "      <th>Early Morning Mean Travel Time (Seconds)</th>\n",
       "      <th>Early Morning Range - Lower Bound Travel Time (Seconds)</th>\n",
       "      <th>Early Morning Range - Upper Bound Travel Time (Seconds)</th>\n",
       "      <th>DayOfWeek</th>\n",
       "      <th>Month</th>\n",
       "    </tr>\n",
       "  </thead>\n",
       "  <tbody>\n",
       "    <tr>\n",
       "      <td>0</td>\n",
       "      <td>2019-04-18</td>\n",
       "      <td>3792</td>\n",
       "      <td>Oracle Park, 24 Willie Mays Plaza, San Francis...</td>\n",
       "      <td>3603</td>\n",
       "      <td>Embarcadero, San Francisco, CA</td>\n",
       "      <td>512.0</td>\n",
       "      <td>371.0</td>\n",
       "      <td>705.0</td>\n",
       "      <td>648.0</td>\n",
       "      <td>461.0</td>\n",
       "      <td>...</td>\n",
       "      <td>398.0</td>\n",
       "      <td>702.0</td>\n",
       "      <td>442.0</td>\n",
       "      <td>321.0</td>\n",
       "      <td>608.0</td>\n",
       "      <td>363.0</td>\n",
       "      <td>297.0</td>\n",
       "      <td>443.0</td>\n",
       "      <td>3</td>\n",
       "      <td>4</td>\n",
       "    </tr>\n",
       "  </tbody>\n",
       "</table>\n",
       "<p>1 rows × 25 columns</p>\n",
       "</div>"
      ],
      "text/plain": [
       "         Date  Origin Movement ID  \\\n",
       "0  2019-04-18                3792   \n",
       "\n",
       "                                 Origin Display Name  Destination Movement ID  \\\n",
       "0  Oracle Park, 24 Willie Mays Plaza, San Francis...                     3603   \n",
       "\n",
       "         Destination Display Name  Daily Mean Travel Time (Seconds)  \\\n",
       "0  Embarcadero, San Francisco, CA                             512.0   \n",
       "\n",
       "   Daily Range - Lower Bound Travel Time (Seconds)  \\\n",
       "0                                            371.0   \n",
       "\n",
       "   Daily Range - Upper Bound Travel Time (Seconds)  \\\n",
       "0                                            705.0   \n",
       "\n",
       "   AM Mean Travel Time (Seconds)  \\\n",
       "0                          648.0   \n",
       "\n",
       "   AM Range - Lower Bound Travel Time (Seconds)  ...  \\\n",
       "0                                         461.0  ...   \n",
       "\n",
       "   Midday Range - Lower Bound Travel Time (Seconds)  \\\n",
       "0                                             398.0   \n",
       "\n",
       "   Midday Range - Upper Bound Travel Time (Seconds)  \\\n",
       "0                                             702.0   \n",
       "\n",
       "   Evening Mean Travel Time (Seconds)  \\\n",
       "0                               442.0   \n",
       "\n",
       "   Evening Range - Lower Bound Travel Time (Seconds)  \\\n",
       "0                                              321.0   \n",
       "\n",
       "   Evening Range - Upper Bound Travel Time (Seconds)  \\\n",
       "0                                              608.0   \n",
       "\n",
       "   Early Morning Mean Travel Time (Seconds)  \\\n",
       "0                                     363.0   \n",
       "\n",
       "   Early Morning Range - Lower Bound Travel Time (Seconds)  \\\n",
       "0                                              297.0         \n",
       "\n",
       "   Early Morning Range - Upper Bound Travel Time (Seconds)  DayOfWeek  Month  \n",
       "0                                              443.0                3      4  \n",
       "\n",
       "[1 rows x 25 columns]"
      ]
     },
     "execution_count": 5,
     "metadata": {},
     "output_type": "execute_result"
    }
   ],
   "source": [
    "df.head(1)"
   ]
  },
  {
   "cell_type": "code",
   "execution_count": 113,
   "metadata": {},
   "outputs": [
    {
     "data": {
      "text/plain": [
       "'2019-06-30'"
      ]
     },
     "execution_count": 113,
     "metadata": {},
     "output_type": "execute_result"
    }
   ],
   "source": [
    "df[\"Date\"].max()"
   ]
  },
  {
   "cell_type": "code",
   "execution_count": 114,
   "metadata": {},
   "outputs": [
    {
     "data": {
      "text/plain": [
       "'2019-01-01'"
      ]
     },
     "execution_count": 114,
     "metadata": {},
     "output_type": "execute_result"
    }
   ],
   "source": [
    "df[\"Date\"].min()"
   ]
  },
  {
   "cell_type": "markdown",
   "metadata": {},
   "source": [
    "# Preprocess Data\n",
    "- [OneHotEncoder](https://scikit-learn.org/stable/modules/generated/sklearn.preprocessing.OneHotEncoder.html)\n",
    "\n",
    "## What data has\n",
    "\n",
    "- Input: Origin ID, Destination ID, DayOfWeek, Month\n",
    "- Output: Daily Mean Travel Time\n",
    "\n",
    "## Split\n",
    "- train 80%\n",
    "- val 10%\n",
    "- val 10%"
   ]
  },
  {
   "cell_type": "code",
   "execution_count": 97,
   "metadata": {},
   "outputs": [],
   "source": [
    "def split_data(data):\n",
    "    train_df, test_df = train_test_split(data, test_size=0.1)\n",
    "    train_df, val_df = train_test_split(train_df, test_size=(1/9))\n",
    "    return {\"train\": train_df, \"val\":val_df, \"test\":test_df}"
   ]
  },
  {
   "cell_type": "code",
   "execution_count": 98,
   "metadata": {},
   "outputs": [],
   "source": [
    "from sklearn.linear_model import LinearRegression\n",
    "from sklearn.preprocessing import OneHotEncoder\n",
    "from sklearn import preprocessing\n",
    "\n",
    "data_dict = {}\n",
    "\n",
    "# Data that encodes all the time info\n",
    "enc = OneHotEncoder(handle_unknown='ignore')\n",
    "enc.fit(df[[\"Origin Movement ID\", \"Destination Movement ID\", \"DayOfWeek\", \"Month\"]])\n",
    "X = enc.transform(df[[\"Origin Movement ID\", \"Destination Movement ID\", \"DayOfWeek\", \"Month\"]])\n",
    "y = df[\"Daily Mean Travel Time (Seconds)\"]\n",
    "y = np.transpose(np.array(y, ndmin=2))\n",
    "data = np.append(X.toarray(),y,axis=1)\n",
    "data_dict[\"encoded\"] = split_data(data)\n",
    "\n",
    "# Data that leaves time as numeric\n",
    "X = preprocessing.scale(df[[\"DayOfWeek\", \"Month\"]].to_numpy())\n",
    "enc = OneHotEncoder(handle_unknown='ignore')\n",
    "enc.fit(df[[\"Origin Movement ID\", \"Destination Movement ID\"]])\n",
    "X = np.append(X, enc.transform(df[[\"Origin Movement ID\", \"Destination Movement ID\"]]).toarray(), axis=1)\n",
    "y = df[\"Daily Mean Travel Time (Seconds)\"]\n",
    "y = np.transpose(np.array(y, ndmin=2))\n",
    "data = np.append(X, y,axis=1)\n",
    "data_dict[\"numeric\"] = split_data(data)"
   ]
  },
  {
   "cell_type": "markdown",
   "metadata": {},
   "source": [
    "# [Linear Regression](https://scikit-learn.org/stable/modules/generated/sklearn.linear_model.LinearRegression.html)"
   ]
  },
  {
   "cell_type": "code",
   "execution_count": 103,
   "metadata": {},
   "outputs": [
    {
     "data": {
      "text/plain": [
       "0.7883588463910652"
      ]
     },
     "execution_count": 103,
     "metadata": {},
     "output_type": "execute_result"
    }
   ],
   "source": [
    "train_df, val_df = data_dict[\"encoded\"][\"train\"], data_dict[\"encoded\"][\"val\"]\n",
    "\n",
    "reg = LinearRegression().fit(train_df[:,:-1], train_df[:,-1])\n",
    "reg.score(val_df[:,:-1], val_df[:,-1])"
   ]
  },
  {
   "cell_type": "markdown",
   "metadata": {},
   "source": [
    "# [SVM Regression (SVR)](https://scikit-learn.org/stable/modules/generated/sklearn.svm.SVR.html)"
   ]
  },
  {
   "cell_type": "code",
   "execution_count": 104,
   "metadata": {},
   "outputs": [
    {
     "data": {
      "text/plain": [
       "SVR(C=1.0, cache_size=200, coef0=0.0, degree=3, epsilon=0.1,\n",
       "    gamma='auto_deprecated', kernel='linear', max_iter=-1, shrinking=True,\n",
       "    tol=0.001, verbose=False)"
      ]
     },
     "execution_count": 104,
     "metadata": {},
     "output_type": "execute_result"
    }
   ],
   "source": [
    "from sklearn.svm import SVR\n",
    "train_df, val_df = data_dict[\"encoded\"][\"train\"], data_dict[\"encoded\"][\"val\"]\n",
    "svr = SVR(C=1.0, kernel=\"linear\")\n",
    "svr.fit(train_df[:,:-1], train_df[:,-1])"
   ]
  },
  {
   "cell_type": "code",
   "execution_count": 105,
   "metadata": {},
   "outputs": [
    {
     "data": {
      "text/plain": [
       "0.48328206458326406"
      ]
     },
     "execution_count": 105,
     "metadata": {},
     "output_type": "execute_result"
    }
   ],
   "source": [
    "svr.score(val_df[:,:-1], val_df[:,-1])"
   ]
  },
  {
   "cell_type": "markdown",
   "metadata": {},
   "source": [
    "# [Hyperparameter-tuning](https://scikit-learn.org/stable/modules/generated/sklearn.model_selection.GridSearchCV.html#sklearn.model_selection.GridSearchCV)"
   ]
  },
  {
   "cell_type": "code",
   "execution_count": 106,
   "metadata": {},
   "outputs": [
    {
     "name": "stderr",
     "output_type": "stream",
     "text": [
      "/Users/yabutamidori/opt/anaconda3/lib/python3.7/site-packages/sklearn/model_selection/_split.py:1978: FutureWarning: The default value of cv will change from 3 to 5 in version 0.22. Specify it explicitly to silence this warning.\n",
      "  warnings.warn(CV_WARNING, FutureWarning)\n"
     ]
    },
    {
     "data": {
      "text/plain": [
       "GridSearchCV(cv='warn', error_score='raise-deprecating',\n",
       "             estimator=SVR(C=1.0, cache_size=200, coef0=0.0, degree=3,\n",
       "                           epsilon=0.1, gamma='auto_deprecated',\n",
       "                           kernel='linear', max_iter=-1, shrinking=True,\n",
       "                           tol=0.001, verbose=False),\n",
       "             iid='warn', n_jobs=None,\n",
       "             param_grid={'C': [0.01, 0.02, 0.04, 0.08, 0.16, 0.32, 0.64, 1.28,\n",
       "                               2.56, 5.12, 10.24, 20.48, 40.96, 81.92, 163.84,\n",
       "                               327.68, 655.36, 1310.72, 2621.44, 5242.88]},\n",
       "             pre_dispatch='2*n_jobs', refit=True, return_train_score=False,\n",
       "             scoring=None, verbose=0)"
      ]
     },
     "execution_count": 106,
     "metadata": {},
     "output_type": "execute_result"
    }
   ],
   "source": [
    "from sklearn.model_selection import GridSearchCV\n",
    "\n",
    "svr = SVR(kernel=\"linear\")\n",
    "parameters = {'C':[0.01 * (2** i)  for i in range(20)]}\n",
    "clf = GridSearchCV(svr, parameters)\n",
    "clf.fit(train_df[:,:-1], train_df[:,-1])"
   ]
  },
  {
   "cell_type": "code",
   "execution_count": 111,
   "metadata": {},
   "outputs": [
    {
     "data": {
      "image/png": "[encoded data removed]",
      "text/plain": [
       "<Figure size 432x288 with 1 Axes>"
      ]
     },
     "metadata": {
      "needs_background": "light"
     },
     "output_type": "display_data"
    }
   ],
   "source": [
    "ax = pd.DataFrame(clf.cv_results_)[[\"param_C\", \"mean_test_score\"]].set_index(\"param_C\").plot()\n",
    "ax.set_xscale('log')"
   ]
  },
  {
   "cell_type": "code",
   "execution_count": null,
   "metadata": {},
   "outputs": [],
   "source": []
  }
 ],
 "metadata": {
  "kernelspec": {
   "display_name": "Python 3",
   "language": "python",
   "name": "python3"
  },
  "language_info": {
   "codemirror_mode": {
    "name": "ipython",
    "version": 3
   },
   "file_extension": ".py",
   "mimetype": "text/x-python",
   "name": "python",
   "nbconvert_exporter": "python",
   "pygments_lexer": "ipython3",
   "version": "3.7.4"
  }
 },
 "nbformat": 4,
 "nbformat_minor": 2
}
